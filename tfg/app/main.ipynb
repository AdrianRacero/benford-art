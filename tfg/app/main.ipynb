{
 "cells": [
  {
   "cell_type": "code",
   "execution_count": 1,
   "id": "15cb4cda-e808-4ed9-a1c3-83f6974b1512",
   "metadata": {},
   "outputs": [
    {
     "name": "stdout",
     "output_type": "stream",
     "text": [
      "Using cuda device\n",
      " * Serving Flask app 'app'\n",
      " * Debug mode: off\n",
      "\u001b[31m\u001b[1mWARNING: This is a development server. Do not use it in a production deployment. Use a production WSGI server instead.\u001b[0m\n",
      " * Running on all addresses (0.0.0.0)\n",
      " * Running on http://127.0.0.1:5001\n",
      " * Running on http://172.18.0.2:5001\n",
      "\u001b[33mPress CTRL+C to quit\u001b[0m\n",
      "172.18.0.1 - - [02/Jun/2025 17:52:02] \"GET / HTTP/1.1\" 200 -\n",
      "172.18.0.1 - - [02/Jun/2025 17:52:02] \"\u001b[36mGET /static/style.css HTTP/1.1\u001b[0m\" 304 -\n",
      "172.18.0.1 - - [02/Jun/2025 17:52:02] \"GET / HTTP/1.1\" 200 -\n",
      "172.18.0.1 - - [02/Jun/2025 17:52:02] \"\u001b[33mGET /favicon.ico HTTP/1.1\u001b[0m\" 404 -\n",
      "/opt/conda/lib/python3.11/site-packages/pywt/_multilevel.py:43: UserWarning: Level value of 7 is too high: all coefficients will experience boundary effects.\n",
      "  warnings.warn(\n",
      "/opt/conda/lib/python3.11/site-packages/sklearn/utils/validation.py:2739: UserWarning: X does not have valid feature names, but RandomForestClassifier was fitted with feature names\n",
      "  warnings.warn(\n",
      "/opt/conda/lib/python3.11/site-packages/sklearn/utils/validation.py:2739: UserWarning: X does not have valid feature names, but RandomForestClassifier was fitted with feature names\n",
      "  warnings.warn(\n",
      "Predicción: 0\n",
      "Probabilidad: [1. 0.]\n",
      "172.18.0.1 - - [02/Jun/2025 17:52:59] \"POST / HTTP/1.1\" 200 -\n",
      "172.18.0.1 - - [02/Jun/2025 17:52:59] \"GET / HTTP/1.1\" 200 -\n",
      "172.18.0.1 - - [02/Jun/2025 17:52:59] \"\u001b[36mGET /static/style.css HTTP/1.1\u001b[0m\" 304 -\n",
      "172.18.0.1 - - [02/Jun/2025 17:52:59] \"GET /uploads/gigado-ashiyuki_136.jpg HTTP/1.1\" 200 -\n",
      "/opt/conda/lib/python3.11/site-packages/pywt/_multilevel.py:43: UserWarning: Level value of 7 is too high: all coefficients will experience boundary effects.\n",
      "  warnings.warn(\n",
      "/opt/conda/lib/python3.11/site-packages/sklearn/utils/validation.py:2739: UserWarning: X does not have valid feature names, but RandomForestClassifier was fitted with feature names\n",
      "  warnings.warn(\n",
      "/opt/conda/lib/python3.11/site-packages/sklearn/utils/validation.py:2739: UserWarning: X does not have valid feature names, but RandomForestClassifier was fitted with feature names\n",
      "  warnings.warn(\n",
      "Predicción: 1\n",
      "Probabilidad: [0. 1.]\n",
      "172.18.0.1 - - [02/Jun/2025 17:53:25] \"POST / HTTP/1.1\" 200 -\n",
      "172.18.0.1 - - [02/Jun/2025 17:53:25] \"\u001b[36mGET /static/style.css HTTP/1.1\u001b[0m\" 304 -\n",
      "172.18.0.1 - - [02/Jun/2025 17:53:25] \"GET /uploads/5-1218237-105568.jpg HTTP/1.1\" 200 -\n",
      "172.18.0.1 - - [02/Jun/2025 17:53:25] \"GET / HTTP/1.1\" 200 -\n",
      "/opt/conda/lib/python3.11/site-packages/pywt/_multilevel.py:43: UserWarning: Level value of 7 is too high: all coefficients will experience boundary effects.\n",
      "  warnings.warn(\n",
      "/opt/conda/lib/python3.11/site-packages/sklearn/utils/validation.py:2739: UserWarning: X does not have valid feature names, but RandomForestClassifier was fitted with feature names\n",
      "  warnings.warn(\n",
      "/opt/conda/lib/python3.11/site-packages/sklearn/utils/validation.py:2739: UserWarning: X does not have valid feature names, but RandomForestClassifier was fitted with feature names\n",
      "  warnings.warn(\n",
      "Predicción: 1\n",
      "Probabilidad: [0.16 0.84]\n",
      "172.18.0.1 - - [02/Jun/2025 17:53:31] \"POST / HTTP/1.1\" 200 -\n",
      "172.18.0.1 - - [02/Jun/2025 17:53:31] \"GET /uploads/5-11550943-268421.jpg HTTP/1.1\" 200 -\n",
      "172.18.0.1 - - [02/Jun/2025 17:53:31] \"GET / HTTP/1.1\" 200 -\n",
      "172.18.0.1 - - [02/Jun/2025 17:53:31] \"\u001b[36mGET /static/style.css HTTP/1.1\u001b[0m\" 304 -\n",
      "/opt/conda/lib/python3.11/site-packages/pywt/_multilevel.py:43: UserWarning: Level value of 7 is too high: all coefficients will experience boundary effects.\n",
      "  warnings.warn(\n",
      "/opt/conda/lib/python3.11/site-packages/sklearn/utils/validation.py:2739: UserWarning: X does not have valid feature names, but RandomForestClassifier was fitted with feature names\n",
      "  warnings.warn(\n",
      "/opt/conda/lib/python3.11/site-packages/sklearn/utils/validation.py:2739: UserWarning: X does not have valid feature names, but RandomForestClassifier was fitted with feature names\n",
      "  warnings.warn(\n",
      "Predicción: 1\n",
      "Probabilidad: [0. 1.]\n",
      "172.18.0.1 - - [02/Jun/2025 17:53:50] \"POST / HTTP/1.1\" 200 -\n",
      "172.18.0.1 - - [02/Jun/2025 17:53:50] \"GET / HTTP/1.1\" 200 -\n",
      "172.18.0.1 - - [02/Jun/2025 17:53:50] \"\u001b[36mGET /static/style.css HTTP/1.1\u001b[0m\" 304 -\n",
      "172.18.0.1 - - [02/Jun/2025 17:53:50] \"GET /uploads/expressionism_ai151.jpg HTTP/1.1\" 200 -\n",
      "/opt/conda/lib/python3.11/site-packages/pywt/_multilevel.py:43: UserWarning: Level value of 7 is too high: all coefficients will experience boundary effects.\n",
      "  warnings.warn(\n",
      "/opt/conda/lib/python3.11/site-packages/sklearn/utils/validation.py:2739: UserWarning: X does not have valid feature names, but RandomForestClassifier was fitted with feature names\n",
      "  warnings.warn(\n",
      "/opt/conda/lib/python3.11/site-packages/sklearn/utils/validation.py:2739: UserWarning: X does not have valid feature names, but RandomForestClassifier was fitted with feature names\n",
      "  warnings.warn(\n",
      "Predicción: 0\n",
      "Probabilidad: [1. 0.]\n",
      "172.18.0.1 - - [02/Jun/2025 17:54:09] \"POST / HTTP/1.1\" 200 -\n",
      "172.18.0.1 - - [02/Jun/2025 17:54:09] \"GET /uploads/surrealism_real81brett-whiteley_balmoral-1978.jpg HTTP/1.1\" 200 -\n",
      "172.18.0.1 - - [02/Jun/2025 17:54:09] \"\u001b[36mGET /static/style.css HTTP/1.1\u001b[0m\" 304 -\n",
      "172.18.0.1 - - [02/Jun/2025 17:54:09] \"GET / HTTP/1.1\" 200 -\n",
      "^C\n"
     ]
    }
   ],
   "source": [
    "!python3 app.py"
   ]
  },
  {
   "cell_type": "code",
   "execution_count": null,
   "id": "6fed6b06-0f22-4899-ae0e-21827c2e601d",
   "metadata": {},
   "outputs": [],
   "source": []
  }
 ],
 "metadata": {
  "kernelspec": {
   "display_name": "Python 3 (ipykernel)",
   "language": "python",
   "name": "python3"
  },
  "language_info": {
   "codemirror_mode": {
    "name": "ipython",
    "version": 3
   },
   "file_extension": ".py",
   "mimetype": "text/x-python",
   "name": "python",
   "nbconvert_exporter": "python",
   "pygments_lexer": "ipython3",
   "version": "3.11.11"
  }
 },
 "nbformat": 4,
 "nbformat_minor": 5
}
