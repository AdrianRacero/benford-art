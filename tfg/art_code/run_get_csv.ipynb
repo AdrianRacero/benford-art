{
 "cells": [
  {
   "cell_type": "code",
   "execution_count": 3,
   "id": "83f880ba-79d1-4f39-9d08-2542d7a48958",
   "metadata": {},
   "outputs": [],
   "source": [
    "import benford_torch as ref\n",
    "import benford_no_quant_v2 as nq2\n",
    "import sys\n",
    "\n",
    "def process_art_ref(art_name):\n",
    "    Q_80 = ref.get_quantization_matrix(80)\n",
    "    Q_85 = ref.get_quantization_matrix(85)\n",
    "    Q_90 = ref.get_quantization_matrix(90)\n",
    "    Q_95 = ref.get_quantization_matrix(95)\n",
    "    Q_100 = ref.get_quantization_matrix(100)\n",
    "\n",
    "    quant_matrices = [Q_80, Q_85, Q_90, Q_95, Q_100]\n",
    "\n",
    "    bases = [10,20,40,60]\n",
    "\n",
    "    frequencies = [1,2,3,4,5,6,7,8,9]\n",
    "\n",
    "    path_fake_train = f'dataset/art/train/AI_SD_{art_name}'\n",
    "    path_fake_test = f'dataset/art/test/AI_SD_{art_name}'\n",
    "    \n",
    "    path_real_train = f'dataset/art/train/{art_name}'\n",
    "    path_real_test = f'dataset/art/test/{art_name}'\n",
    "\n",
    "    divergences_str = [\"js\", \"r\", \"t\"]\n",
    "    bases_str = [\"10\",\"20\",\"40\",\"60\"]\n",
    "    frequencies_str = [\"1\",\"2\",\"3\",\"4\",\"5\",\"6\",\"7\",\"8\",\"9\"]\n",
    "    quant_matrices_str = [\"80\", \"85\", \"90\", \"95\", \"100\"]\n",
    "\n",
    "    #ref.generate_csv_header(divergences_str, bases_str, frequencies_str, quant_matrices_str, f'csv/art_ref/train/AI_SD_{art_name}.csv')\n",
    "    #ref.process_and_save_images(path_fake_train, 20000, '1', bases, frequencies, quant_matrices, f'csv/art_ref/train/AI_SD_{art_name}.csv')\n",
    "\n",
    "    #ref.generate_csv_header(divergences_str, bases_str, frequencies_str, quant_matrices_str, f'csv/art_ref/test/AI_SD_{art_name}.csv')\n",
    "    #ref.process_and_save_images(path_fake_test, 20000, '1', bases, frequencies, quant_matrices, f'csv/art_ref/test/AI_SD_{art_name}.csv')\n",
    "\n",
    "\n",
    "    ref.generate_csv_header(divergences_str, bases_str, frequencies_str, quant_matrices_str, f'csv/art_ref/train/{art_name}.csv')\n",
    "    ref.process_and_save_images(path_real_train, 20000, '0', bases, frequencies, quant_matrices, f'csv/art_ref/train/{art_name}.csv')\n",
    "\n",
    "    ref.generate_csv_header(divergences_str, bases_str, frequencies_str, quant_matrices_str, f'csv/art_ref/test/{art_name}.csv')\n",
    "    ref.process_and_save_images(path_real_test, 20000, '0', bases, frequencies, quant_matrices, f'csv/art_ref/test/{art_name}.csv')\n",
    "\n",
    "def process_art_nq2(art_name):\n",
    "    \n",
    "    bases = [10,20,40,60]\n",
    "\n",
    "    path_fake_train = f'dataset/art/train/AI_SD_{art_name}'\n",
    "    path_fake_test = f'dataset/art/test/AI_SD_{art_name}'\n",
    "    \n",
    "    path_real_train = f'dataset/art/train/{art_name}'\n",
    "    path_real_test = f'dataset/art/test/{art_name}'\n",
    "\n",
    "    divergences_str = [\"js\", \"r\", \"t\"]\n",
    "    transformations_str = [\"fft\", \"dst\", \"dct\", \"wt\", \"lp\"]\n",
    "    bases_str = [\"10\",\"20\",\"40\",\"60\"]\n",
    "\n",
    "    nq2.generate_csv_header(transformations_str, divergences_str, bases_str, f'csv/art_nq2/train/AI_SD_{art_name}.csv')\n",
    "    nq2.process_and_save_images(path_fake_train, 20000, '1', bases, f'csv/art_nq2/train/AI_SD_{art_name}.csv')\n",
    "\n",
    "    nq2.generate_csv_header(transformations_str, divergences_str, bases_str, f'csv/art_nq2/test/AI_SD_{art_name}.csv')\n",
    "    nq2.process_and_save_images(path_fake_test, 20000, '1', bases, f'csv/art_nq2/test/AI_SD_{art_name}.csv')\n",
    "\n",
    "\n",
    "    nq2.generate_csv_header(transformations_str, divergences_str, bases_str, f'csv/art_nq2/train/{art_name}.csv')\n",
    "    nq2.process_and_save_images(path_real_train, 20000, '0', bases, f'csv/art_nq2/train/{art_name}.csv')\n",
    "\n",
    "    nq2.generate_csv_header(transformations_str, divergences_str, bases_str, f'csv/art_nq2/test/{art_name}.csv')\n",
    "    nq2.process_and_save_images(path_real_test, 20000, '0', bases, f'csv/art_nq2/test/{art_name}.csv')\n",
    "    "
   ]
  },
  {
   "cell_type": "markdown",
   "id": "17ad57af-92bf-4171-b0c4-b16caf9c306e",
   "metadata": {},
   "source": [
    "# nq2 method (all done) #"
   ]
  },
  {
   "cell_type": "code",
   "execution_count": 7,
   "id": "1cc0c3d1-4d19-46e2-8013-dddaac61b547",
   "metadata": {},
   "outputs": [],
   "source": [
    "# Done\n",
    "# process_art_nq2('art_nouveau')"
   ]
  },
  {
   "cell_type": "code",
   "execution_count": 11,
   "id": "ae814933-4dff-484f-8a4c-3d73682f27ee",
   "metadata": {},
   "outputs": [
    {
     "name": "stderr",
     "output_type": "stream",
     "text": [
      "/opt/conda/lib/python3.11/site-packages/pywt/_multilevel.py:43: UserWarning: Level value of 7 is too high: all coefficients will experience boundary effects.\n",
      "  warnings.warn(\n"
     ]
    },
    {
     "name": "stdout",
     "output_type": "stream",
     "text": [
      "5052 images have been processed and saved to csv/art_nq2/train/AI_SD_baroque.csv\n"
     ]
    },
    {
     "name": "stderr",
     "output_type": "stream",
     "text": [
      "/opt/conda/lib/python3.11/site-packages/pywt/_multilevel.py:43: UserWarning: Level value of 7 is too high: all coefficients will experience boundary effects.\n",
      "  warnings.warn(\n"
     ]
    },
    {
     "name": "stdout",
     "output_type": "stream",
     "text": [
      "1000 images have been processed and saved to csv/art_nq2/test/AI_SD_baroque.csv\n"
     ]
    },
    {
     "name": "stderr",
     "output_type": "stream",
     "text": [
      "/opt/conda/lib/python3.11/site-packages/pywt/_multilevel.py:43: UserWarning: Level value of 7 is too high: all coefficients will experience boundary effects.\n",
      "  warnings.warn(\n"
     ]
    },
    {
     "name": "stdout",
     "output_type": "stream",
     "text": [
      "5000 images have been processed and saved to csv/art_nq2/train/baroque.csv\n"
     ]
    },
    {
     "name": "stderr",
     "output_type": "stream",
     "text": [
      "/opt/conda/lib/python3.11/site-packages/pywt/_multilevel.py:43: UserWarning: Level value of 7 is too high: all coefficients will experience boundary effects.\n",
      "  warnings.warn(\n"
     ]
    },
    {
     "name": "stdout",
     "output_type": "stream",
     "text": [
      "1000 images have been processed and saved to csv/art_nq2/test/baroque.csv\n"
     ]
    }
   ],
   "source": [
    "process_art_nq2('baroque')"
   ]
  },
  {
   "cell_type": "code",
   "execution_count": 12,
   "id": "a5c290f7-153a-4f60-aa11-951972c99333",
   "metadata": {},
   "outputs": [
    {
     "name": "stderr",
     "output_type": "stream",
     "text": [
      "/opt/conda/lib/python3.11/site-packages/pywt/_multilevel.py:43: UserWarning: Level value of 7 is too high: all coefficients will experience boundary effects.\n",
      "  warnings.warn(\n"
     ]
    },
    {
     "name": "stdout",
     "output_type": "stream",
     "text": [
      "5304 images have been processed and saved to csv/art_nq2/train/AI_SD_expressionism.csv\n"
     ]
    },
    {
     "name": "stderr",
     "output_type": "stream",
     "text": [
      "/opt/conda/lib/python3.11/site-packages/pywt/_multilevel.py:43: UserWarning: Level value of 7 is too high: all coefficients will experience boundary effects.\n",
      "  warnings.warn(\n"
     ]
    },
    {
     "name": "stdout",
     "output_type": "stream",
     "text": [
      "1000 images have been processed and saved to csv/art_nq2/test/AI_SD_expressionism.csv\n"
     ]
    },
    {
     "name": "stderr",
     "output_type": "stream",
     "text": [
      "/opt/conda/lib/python3.11/site-packages/pywt/_multilevel.py:43: UserWarning: Level value of 7 is too high: all coefficients will experience boundary effects.\n",
      "  warnings.warn(\n"
     ]
    },
    {
     "name": "stdout",
     "output_type": "stream",
     "text": [
      "5000 images have been processed and saved to csv/art_nq2/train/expressionism.csv\n"
     ]
    },
    {
     "name": "stderr",
     "output_type": "stream",
     "text": [
      "/opt/conda/lib/python3.11/site-packages/pywt/_multilevel.py:43: UserWarning: Level value of 7 is too high: all coefficients will experience boundary effects.\n",
      "  warnings.warn(\n"
     ]
    },
    {
     "name": "stdout",
     "output_type": "stream",
     "text": [
      "1000 images have been processed and saved to csv/art_nq2/test/expressionism.csv\n"
     ]
    }
   ],
   "source": [
    "process_art_nq2('expressionism')"
   ]
  },
  {
   "cell_type": "code",
   "execution_count": 13,
   "id": "b7e1c093-b442-4b57-83ac-67b77558ac9f",
   "metadata": {},
   "outputs": [
    {
     "name": "stderr",
     "output_type": "stream",
     "text": [
      "/opt/conda/lib/python3.11/site-packages/pywt/_multilevel.py:43: UserWarning: Level value of 7 is too high: all coefficients will experience boundary effects.\n",
      "  warnings.warn(\n"
     ]
    },
    {
     "name": "stdout",
     "output_type": "stream",
     "text": [
      "5388 images have been processed and saved to csv/art_nq2/train/AI_SD_impressionism.csv\n"
     ]
    },
    {
     "name": "stderr",
     "output_type": "stream",
     "text": [
      "/opt/conda/lib/python3.11/site-packages/pywt/_multilevel.py:43: UserWarning: Level value of 7 is too high: all coefficients will experience boundary effects.\n",
      "  warnings.warn(\n"
     ]
    },
    {
     "name": "stdout",
     "output_type": "stream",
     "text": [
      "1000 images have been processed and saved to csv/art_nq2/test/AI_SD_impressionism.csv\n"
     ]
    },
    {
     "name": "stderr",
     "output_type": "stream",
     "text": [
      "/opt/conda/lib/python3.11/site-packages/pywt/_multilevel.py:43: UserWarning: Level value of 7 is too high: all coefficients will experience boundary effects.\n",
      "  warnings.warn(\n"
     ]
    },
    {
     "name": "stdout",
     "output_type": "stream",
     "text": [
      "5000 images have been processed and saved to csv/art_nq2/train/impressionism.csv\n"
     ]
    },
    {
     "name": "stderr",
     "output_type": "stream",
     "text": [
      "/opt/conda/lib/python3.11/site-packages/pywt/_multilevel.py:43: UserWarning: Level value of 7 is too high: all coefficients will experience boundary effects.\n",
      "  warnings.warn(\n"
     ]
    },
    {
     "name": "stdout",
     "output_type": "stream",
     "text": [
      "1000 images have been processed and saved to csv/art_nq2/test/impressionism.csv\n"
     ]
    }
   ],
   "source": [
    "process_art_nq2('impressionism')"
   ]
  },
  {
   "cell_type": "code",
   "execution_count": 14,
   "id": "3c34b112-6eba-4c71-8422-7b7a338d41dc",
   "metadata": {},
   "outputs": [
    {
     "name": "stderr",
     "output_type": "stream",
     "text": [
      "/opt/conda/lib/python3.11/site-packages/pywt/_multilevel.py:43: UserWarning: Level value of 7 is too high: all coefficients will experience boundary effects.\n",
      "  warnings.warn(\n"
     ]
    },
    {
     "name": "stdout",
     "output_type": "stream",
     "text": [
      "5360 images have been processed and saved to csv/art_nq2/train/AI_SD_post_impressionism.csv\n"
     ]
    },
    {
     "name": "stderr",
     "output_type": "stream",
     "text": [
      "/opt/conda/lib/python3.11/site-packages/pywt/_multilevel.py:43: UserWarning: Level value of 7 is too high: all coefficients will experience boundary effects.\n",
      "  warnings.warn(\n"
     ]
    },
    {
     "name": "stdout",
     "output_type": "stream",
     "text": [
      "1000 images have been processed and saved to csv/art_nq2/test/AI_SD_post_impressionism.csv\n"
     ]
    },
    {
     "name": "stderr",
     "output_type": "stream",
     "text": [
      "/opt/conda/lib/python3.11/site-packages/pywt/_multilevel.py:43: UserWarning: Level value of 7 is too high: all coefficients will experience boundary effects.\n",
      "  warnings.warn(\n"
     ]
    },
    {
     "name": "stdout",
     "output_type": "stream",
     "text": [
      "5000 images have been processed and saved to csv/art_nq2/train/post_impressionism.csv\n"
     ]
    },
    {
     "name": "stderr",
     "output_type": "stream",
     "text": [
      "/opt/conda/lib/python3.11/site-packages/pywt/_multilevel.py:43: UserWarning: Level value of 7 is too high: all coefficients will experience boundary effects.\n",
      "  warnings.warn(\n"
     ]
    },
    {
     "name": "stdout",
     "output_type": "stream",
     "text": [
      "1000 images have been processed and saved to csv/art_nq2/test/post_impressionism.csv\n"
     ]
    }
   ],
   "source": [
    "process_art_nq2('post_impressionism')"
   ]
  },
  {
   "cell_type": "code",
   "execution_count": 15,
   "id": "e7107b35-2946-4588-a148-ae7d44f29872",
   "metadata": {},
   "outputs": [
    {
     "name": "stderr",
     "output_type": "stream",
     "text": [
      "/opt/conda/lib/python3.11/site-packages/pywt/_multilevel.py:43: UserWarning: Level value of 7 is too high: all coefficients will experience boundary effects.\n",
      "  warnings.warn(\n"
     ]
    },
    {
     "name": "stdout",
     "output_type": "stream",
     "text": [
      "5248 images have been processed and saved to csv/art_nq2/train/AI_SD_realism.csv\n"
     ]
    },
    {
     "name": "stderr",
     "output_type": "stream",
     "text": [
      "/opt/conda/lib/python3.11/site-packages/pywt/_multilevel.py:43: UserWarning: Level value of 7 is too high: all coefficients will experience boundary effects.\n",
      "  warnings.warn(\n"
     ]
    },
    {
     "name": "stdout",
     "output_type": "stream",
     "text": [
      "1000 images have been processed and saved to csv/art_nq2/test/AI_SD_realism.csv\n"
     ]
    },
    {
     "name": "stderr",
     "output_type": "stream",
     "text": [
      "/opt/conda/lib/python3.11/site-packages/pywt/_multilevel.py:43: UserWarning: Level value of 7 is too high: all coefficients will experience boundary effects.\n",
      "  warnings.warn(\n"
     ]
    },
    {
     "name": "stdout",
     "output_type": "stream",
     "text": [
      "5000 images have been processed and saved to csv/art_nq2/train/realism.csv\n"
     ]
    },
    {
     "name": "stderr",
     "output_type": "stream",
     "text": [
      "/opt/conda/lib/python3.11/site-packages/pywt/_multilevel.py:43: UserWarning: Level value of 7 is too high: all coefficients will experience boundary effects.\n",
      "  warnings.warn(\n"
     ]
    },
    {
     "name": "stdout",
     "output_type": "stream",
     "text": [
      "1000 images have been processed and saved to csv/art_nq2/test/realism.csv\n"
     ]
    }
   ],
   "source": [
    "process_art_nq2('realism')"
   ]
  },
  {
   "cell_type": "code",
   "execution_count": 16,
   "id": "3503d8c5-21ca-4a1a-87b1-a43af8679126",
   "metadata": {},
   "outputs": [
    {
     "name": "stderr",
     "output_type": "stream",
     "text": [
      "/opt/conda/lib/python3.11/site-packages/pywt/_multilevel.py:43: UserWarning: Level value of 7 is too high: all coefficients will experience boundary effects.\n",
      "  warnings.warn(\n"
     ]
    },
    {
     "name": "stdout",
     "output_type": "stream",
     "text": [
      "5060 images have been processed and saved to csv/art_nq2/train/AI_SD_renaissance.csv\n"
     ]
    },
    {
     "name": "stderr",
     "output_type": "stream",
     "text": [
      "/opt/conda/lib/python3.11/site-packages/pywt/_multilevel.py:43: UserWarning: Level value of 7 is too high: all coefficients will experience boundary effects.\n",
      "  warnings.warn(\n"
     ]
    },
    {
     "name": "stdout",
     "output_type": "stream",
     "text": [
      "1000 images have been processed and saved to csv/art_nq2/test/AI_SD_renaissance.csv\n"
     ]
    },
    {
     "name": "stderr",
     "output_type": "stream",
     "text": [
      "/opt/conda/lib/python3.11/site-packages/pywt/_multilevel.py:43: UserWarning: Level value of 7 is too high: all coefficients will experience boundary effects.\n",
      "  warnings.warn(\n"
     ]
    },
    {
     "name": "stdout",
     "output_type": "stream",
     "text": [
      "5000 images have been processed and saved to csv/art_nq2/train/renaissance.csv\n"
     ]
    },
    {
     "name": "stderr",
     "output_type": "stream",
     "text": [
      "/opt/conda/lib/python3.11/site-packages/pywt/_multilevel.py:43: UserWarning: Level value of 7 is too high: all coefficients will experience boundary effects.\n",
      "  warnings.warn(\n"
     ]
    },
    {
     "name": "stdout",
     "output_type": "stream",
     "text": [
      "1000 images have been processed and saved to csv/art_nq2/test/renaissance.csv\n"
     ]
    }
   ],
   "source": [
    "process_art_nq2('renaissance')"
   ]
  },
  {
   "cell_type": "code",
   "execution_count": 17,
   "id": "60ceb477-64b1-4d3c-a819-51eae756ee31",
   "metadata": {},
   "outputs": [
    {
     "name": "stderr",
     "output_type": "stream",
     "text": [
      "/opt/conda/lib/python3.11/site-packages/pywt/_multilevel.py:43: UserWarning: Level value of 7 is too high: all coefficients will experience boundary effects.\n",
      "  warnings.warn(\n"
     ]
    },
    {
     "name": "stdout",
     "output_type": "stream",
     "text": [
      "5455 images have been processed and saved to csv/art_nq2/train/AI_SD_romanticism.csv\n"
     ]
    },
    {
     "name": "stderr",
     "output_type": "stream",
     "text": [
      "/opt/conda/lib/python3.11/site-packages/pywt/_multilevel.py:43: UserWarning: Level value of 7 is too high: all coefficients will experience boundary effects.\n",
      "  warnings.warn(\n"
     ]
    },
    {
     "name": "stdout",
     "output_type": "stream",
     "text": [
      "1000 images have been processed and saved to csv/art_nq2/test/AI_SD_romanticism.csv\n"
     ]
    },
    {
     "name": "stderr",
     "output_type": "stream",
     "text": [
      "/opt/conda/lib/python3.11/site-packages/pywt/_multilevel.py:43: UserWarning: Level value of 7 is too high: all coefficients will experience boundary effects.\n",
      "  warnings.warn(\n"
     ]
    },
    {
     "name": "stdout",
     "output_type": "stream",
     "text": [
      "5000 images have been processed and saved to csv/art_nq2/train/romanticism.csv\n"
     ]
    },
    {
     "name": "stderr",
     "output_type": "stream",
     "text": [
      "/opt/conda/lib/python3.11/site-packages/pywt/_multilevel.py:43: UserWarning: Level value of 7 is too high: all coefficients will experience boundary effects.\n",
      "  warnings.warn(\n"
     ]
    },
    {
     "name": "stdout",
     "output_type": "stream",
     "text": [
      "1000 images have been processed and saved to csv/art_nq2/test/romanticism.csv\n"
     ]
    }
   ],
   "source": [
    "process_art_nq2('romanticism')"
   ]
  },
  {
   "cell_type": "code",
   "execution_count": 18,
   "id": "40ca0b6f-ae48-46bb-88dd-75273e6af997",
   "metadata": {},
   "outputs": [
    {
     "name": "stderr",
     "output_type": "stream",
     "text": [
      "/opt/conda/lib/python3.11/site-packages/pywt/_multilevel.py:43: UserWarning: Level value of 7 is too high: all coefficients will experience boundary effects.\n",
      "  warnings.warn(\n"
     ]
    },
    {
     "name": "stdout",
     "output_type": "stream",
     "text": [
      "5364 images have been processed and saved to csv/art_nq2/train/AI_SD_surrealism.csv\n"
     ]
    },
    {
     "name": "stderr",
     "output_type": "stream",
     "text": [
      "/opt/conda/lib/python3.11/site-packages/pywt/_multilevel.py:43: UserWarning: Level value of 7 is too high: all coefficients will experience boundary effects.\n",
      "  warnings.warn(\n"
     ]
    },
    {
     "name": "stdout",
     "output_type": "stream",
     "text": [
      "1000 images have been processed and saved to csv/art_nq2/test/AI_SD_surrealism.csv\n"
     ]
    },
    {
     "name": "stderr",
     "output_type": "stream",
     "text": [
      "/opt/conda/lib/python3.11/site-packages/pywt/_multilevel.py:43: UserWarning: Level value of 7 is too high: all coefficients will experience boundary effects.\n",
      "  warnings.warn(\n"
     ]
    },
    {
     "name": "stdout",
     "output_type": "stream",
     "text": [
      "5000 images have been processed and saved to csv/art_nq2/train/surrealism.csv\n"
     ]
    },
    {
     "name": "stderr",
     "output_type": "stream",
     "text": [
      "/opt/conda/lib/python3.11/site-packages/pywt/_multilevel.py:43: UserWarning: Level value of 7 is too high: all coefficients will experience boundary effects.\n",
      "  warnings.warn(\n"
     ]
    },
    {
     "name": "stdout",
     "output_type": "stream",
     "text": [
      "1000 images have been processed and saved to csv/art_nq2/test/surrealism.csv\n"
     ]
    }
   ],
   "source": [
    "process_art_nq2('surrealism')"
   ]
  },
  {
   "cell_type": "code",
   "execution_count": 19,
   "id": "bf213d0d-bc52-4551-a559-9f8b697cb269",
   "metadata": {},
   "outputs": [
    {
     "name": "stderr",
     "output_type": "stream",
     "text": [
      "/opt/conda/lib/python3.11/site-packages/pywt/_multilevel.py:43: UserWarning: Level value of 7 is too high: all coefficients will experience boundary effects.\n",
      "  warnings.warn(\n"
     ]
    },
    {
     "name": "stdout",
     "output_type": "stream",
     "text": [
      "5308 images have been processed and saved to csv/art_nq2/train/AI_SD_ukiyo-e.csv\n"
     ]
    },
    {
     "name": "stderr",
     "output_type": "stream",
     "text": [
      "/opt/conda/lib/python3.11/site-packages/pywt/_multilevel.py:43: UserWarning: Level value of 7 is too high: all coefficients will experience boundary effects.\n",
      "  warnings.warn(\n"
     ]
    },
    {
     "name": "stdout",
     "output_type": "stream",
     "text": [
      "1000 images have been processed and saved to csv/art_nq2/test/AI_SD_ukiyo-e.csv\n"
     ]
    },
    {
     "name": "stderr",
     "output_type": "stream",
     "text": [
      "/opt/conda/lib/python3.11/site-packages/pywt/_multilevel.py:43: UserWarning: Level value of 7 is too high: all coefficients will experience boundary effects.\n",
      "  warnings.warn(\n"
     ]
    },
    {
     "name": "stdout",
     "output_type": "stream",
     "text": [
      "5000 images have been processed and saved to csv/art_nq2/train/ukiyo-e.csv\n"
     ]
    },
    {
     "name": "stderr",
     "output_type": "stream",
     "text": [
      "/opt/conda/lib/python3.11/site-packages/pywt/_multilevel.py:43: UserWarning: Level value of 7 is too high: all coefficients will experience boundary effects.\n",
      "  warnings.warn(\n"
     ]
    },
    {
     "name": "stdout",
     "output_type": "stream",
     "text": [
      "1000 images have been processed and saved to csv/art_nq2/test/ukiyo-e.csv\n"
     ]
    }
   ],
   "source": [
    "process_art_nq2('ukiyo-e')"
   ]
  },
  {
   "cell_type": "markdown",
   "id": "a0c02851-c809-4cde-ab21-9c4ce6fcc0ab",
   "metadata": {},
   "source": [
    "# ref method #"
   ]
  },
  {
   "cell_type": "code",
   "execution_count": 10,
   "id": "af9d2229-fad0-42af-8a98-70c0612cb9e0",
   "metadata": {},
   "outputs": [],
   "source": [
    "# Done\n",
    "# process_art_ref('art_nouveau')"
   ]
  },
  {
   "cell_type": "code",
   "execution_count": 21,
   "id": "5d64d4b4-e501-4897-88f4-d37cf8119501",
   "metadata": {},
   "outputs": [
    {
     "name": "stdout",
     "output_type": "stream",
     "text": [
      "5052 images have been processed and saved to csv/art_ref/train/AI_SD_baroque.csv\n",
      "1000 images have been processed and saved to csv/art_ref/test/AI_SD_baroque.csv\n",
      "5000 images have been processed and saved to csv/art_ref/train/baroque.csv\n",
      "1000 images have been processed and saved to csv/art_ref/test/baroque.csv\n"
     ]
    }
   ],
   "source": [
    "process_art_ref('baroque')"
   ]
  },
  {
   "cell_type": "code",
   "execution_count": 22,
   "id": "d9902048-5f81-48fd-9495-3d447ae60bf9",
   "metadata": {},
   "outputs": [
    {
     "name": "stdout",
     "output_type": "stream",
     "text": [
      "5304 images have been processed and saved to csv/art_ref/train/AI_SD_expressionism.csv\n",
      "1000 images have been processed and saved to csv/art_ref/test/AI_SD_expressionism.csv\n",
      "5000 images have been processed and saved to csv/art_ref/train/expressionism.csv\n",
      "1000 images have been processed and saved to csv/art_ref/test/expressionism.csv\n"
     ]
    }
   ],
   "source": [
    "process_art_ref('expressionism')"
   ]
  },
  {
   "cell_type": "code",
   "execution_count": 4,
   "id": "4f145b34-34a6-451c-9b80-3d887888afc1",
   "metadata": {},
   "outputs": [
    {
     "name": "stdout",
     "output_type": "stream",
     "text": [
      "5000 images have been processed and saved to csv/art_ref/train/impressionism.csv\n",
      "1000 images have been processed and saved to csv/art_ref/test/impressionism.csv\n"
     ]
    }
   ],
   "source": [
    "process_art_ref('impressionism')\n",
    "# Continuar aqui, falta tanto el train y el test de impressionism sin ia"
   ]
  },
  {
   "cell_type": "code",
   "execution_count": 2,
   "id": "5dd5d9c7-8597-46fd-a660-5baca5008c4f",
   "metadata": {},
   "outputs": [
    {
     "name": "stdout",
     "output_type": "stream",
     "text": [
      "5360 images have been processed and saved to csv/art_ref/train/AI_SD_post_impressionism.csv\n",
      "1000 images have been processed and saved to csv/art_ref/test/AI_SD_post_impressionism.csv\n",
      "5000 images have been processed and saved to csv/art_ref/train/post_impressionism.csv\n",
      "1000 images have been processed and saved to csv/art_ref/test/post_impressionism.csv\n"
     ]
    }
   ],
   "source": [
    "process_art_ref('post_impressionism')"
   ]
  },
  {
   "cell_type": "code",
   "execution_count": 3,
   "id": "9ebbcacf-c606-47db-9f38-d9150b797d45",
   "metadata": {},
   "outputs": [
    {
     "name": "stdout",
     "output_type": "stream",
     "text": [
      "5248 images have been processed and saved to csv/art_ref/train/AI_SD_realism.csv\n",
      "1000 images have been processed and saved to csv/art_ref/test/AI_SD_realism.csv\n",
      "5000 images have been processed and saved to csv/art_ref/train/realism.csv\n",
      "1000 images have been processed and saved to csv/art_ref/test/realism.csv\n"
     ]
    }
   ],
   "source": [
    "process_art_ref('realism')"
   ]
  },
  {
   "cell_type": "code",
   "execution_count": null,
   "id": "1a057731-3104-48f9-a49b-11cc4dc40455",
   "metadata": {},
   "outputs": [
    {
     "name": "stdout",
     "output_type": "stream",
     "text": [
      "5060 images have been processed and saved to csv/art_ref/train/AI_SD_renaissance.csv\n"
     ]
    }
   ],
   "source": [
    "process_art_ref('renaissance')"
   ]
  },
  {
   "cell_type": "code",
   "execution_count": 2,
   "id": "2b0139c5-d215-42c1-bd5b-3fe501612df6",
   "metadata": {},
   "outputs": [
    {
     "name": "stdout",
     "output_type": "stream",
     "text": [
      "5455 images have been processed and saved to csv/art_ref/train/AI_SD_romanticism.csv\n",
      "1000 images have been processed and saved to csv/art_ref/test/AI_SD_romanticism.csv\n",
      "5000 images have been processed and saved to csv/art_ref/train/romanticism.csv\n",
      "1000 images have been processed and saved to csv/art_ref/test/romanticism.csv\n"
     ]
    }
   ],
   "source": [
    "process_art_ref('romanticism')"
   ]
  },
  {
   "cell_type": "code",
   "execution_count": 5,
   "id": "7217f20d-08d3-4fa2-90c4-bfdcdf9151fd",
   "metadata": {},
   "outputs": [
    {
     "name": "stdout",
     "output_type": "stream",
     "text": [
      "5364 images have been processed and saved to csv/art_ref/train/AI_SD_surrealism.csv\n",
      "1000 images have been processed and saved to csv/art_ref/test/AI_SD_surrealism.csv\n",
      "5000 images have been processed and saved to csv/art_ref/train/surrealism.csv\n",
      "1000 images have been processed and saved to csv/art_ref/test/surrealism.csv\n"
     ]
    }
   ],
   "source": [
    "process_art_ref('surrealism')"
   ]
  },
  {
   "cell_type": "code",
   "execution_count": 6,
   "id": "e2ce4d83-c408-4add-8e44-c016ce8c5691",
   "metadata": {},
   "outputs": [
    {
     "name": "stdout",
     "output_type": "stream",
     "text": [
      "5308 images have been processed and saved to csv/art_ref/train/AI_SD_ukiyo-e.csv\n",
      "1000 images have been processed and saved to csv/art_ref/test/AI_SD_ukiyo-e.csv\n",
      "5000 images have been processed and saved to csv/art_ref/train/ukiyo-e.csv\n",
      "1000 images have been processed and saved to csv/art_ref/test/ukiyo-e.csv\n"
     ]
    }
   ],
   "source": [
    "process_art_ref('ukiyo-e')"
   ]
  }
 ],
 "metadata": {
  "kernelspec": {
   "display_name": "Python 3 (ipykernel)",
   "language": "python",
   "name": "python3"
  },
  "language_info": {
   "codemirror_mode": {
    "name": "ipython",
    "version": 3
   },
   "file_extension": ".py",
   "mimetype": "text/x-python",
   "name": "python",
   "nbconvert_exporter": "python",
   "pygments_lexer": "ipython3",
   "version": "3.11.11"
  }
 },
 "nbformat": 4,
 "nbformat_minor": 5
}
